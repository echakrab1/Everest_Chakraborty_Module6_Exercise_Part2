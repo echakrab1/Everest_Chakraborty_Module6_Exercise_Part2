{
 "cells": [
  {
   "cell_type": "markdown",
   "metadata": {},
   "source": [
    "1. Round 4.5667 to the nearest hundreth using a build-in function, round()."
   ]
  },
  {
   "cell_type": "code",
   "execution_count": 13,
   "metadata": {},
   "outputs": [
    {
     "data": {
      "text/plain": [
       "4.57"
      ]
     },
     "execution_count": 13,
     "metadata": {},
     "output_type": "execute_result"
    }
   ],
   "source": [
    "round(4.5667, 2)"
   ]
  },
  {
   "cell_type": "markdown",
   "metadata": {},
   "source": [
    "2. Convert \"657\" to an integer data type"
   ]
  },
  {
   "cell_type": "code",
   "execution_count": 14,
   "metadata": {},
   "outputs": [
    {
     "data": {
      "text/plain": [
       "657"
      ]
     },
     "execution_count": 14,
     "metadata": {},
     "output_type": "execute_result"
    }
   ],
   "source": [
    "int(\"657\")"
   ]
  },
  {
   "cell_type": "markdown",
   "metadata": {},
   "source": [
    "3.\n",
    "Write a program to get two numbers from a user. Then, create a secret code where a code consists of 6 numbers and each number is randomly generated number between two numbers from a user. "
   ]
  },
  {
   "cell_type": "code",
   "execution_count": 22,
   "metadata": {},
   "outputs": [
    {
     "name": "stdout",
     "output_type": "stream",
     "text": [
      "Enter the first number as a minimum limit: 1\n",
      "Enter the second number as a maximum limit: 35\n",
      "This is the secret code: 2, 31, 8, 1, 33, 30.\n"
     ]
    }
   ],
   "source": [
    "Numb1 = int(input(\"Enter the first number as a minimum limit: \"))\n",
    "Numb2 = int(input(\"Enter the second number as a maximum limit: \"))\n",
    "import random\n",
    "\n",
    "numb1 = (random.randint(Numb1, Numb2))\n",
    "numb2 = (random.randint(Numb1, Numb2))\n",
    "numb3 = (random.randint(Numb1, Numb2))\n",
    "numb4 = (random.randint(Numb1, Numb2))\n",
    "numb5 = (random.randint(Numb1, Numb2))\n",
    "numb6 = (random.randint(Numb1, Numb2))\n",
    "\n",
    "print(f\"This is the secret code: {numb1}, {numb2}, {numb3}, {numb4}, {numb5}, {numb6}.\")\n",
    "\n"
   ]
  },
  {
   "cell_type": "markdown",
   "metadata": {},
   "source": [
    "4.\n",
    "Write a program to center align below text where number of characters per line is 40:\n",
    "\n",
    "    Hickory, dickory, dock,\n",
    "    The mouse ran up the clock.\n",
    "    The clock struck one,\n",
    "    The mouse ran down,\n",
    "    Hickory, dickory, dock\n",
    "\n",
    "<b>Do not use string's center method! </b>"
   ]
  },
  {
   "cell_type": "code",
   "execution_count": 8,
   "metadata": {},
   "outputs": [
    {
     "name": "stdout",
     "output_type": "stream",
     "text": [
      "                 Hickory, dickory, dock,\n",
      "             The mouse ran up the clock.\n",
      "                    The clock struck one\n",
      "                     The mouse ran down,\n",
      "                  Hickory, dickory, dock\n"
     ]
    }
   ],
   "source": [
    "line1 = \"Hickory, dickory, dock,\"\n",
    "line2 = \"The mouse ran up the clock.\"\n",
    "line3 = \"The clock struck one\"\n",
    "line4 = \"The mouse ran down,\"\n",
    "line5 = \"Hickory, dickory, dock\"\n",
    "\n",
    "Maxchar = 40\n",
    "line_1 = line1.strip()\n",
    "no_char1 = len(line_1)\n",
    "no_blanks1 = Maxchar - no_char1\n",
    "\n",
    "result1 = \" \" * no_blanks1\n",
    "result1 += line_1\n",
    "\n",
    "line_2 = line2.strip()\n",
    "no_char2 = len(line_2)\n",
    "no_blanks2 = Maxchar - no_char2\n",
    "\n",
    "result2 = \" \" * no_blanks2\n",
    "result2 += line_2\n",
    "\n",
    "line_3 = line3.strip()\n",
    "no_char3 = len(line_3)\n",
    "no_blanks3 = Maxchar - no_char3\n",
    "\n",
    "result3 = \" \" * no_blanks3\n",
    "result3 += line_3\n",
    "\n",
    "line_4 = line4.strip()\n",
    "no_char4 = len(line_4)\n",
    "no_blanks4 = Maxchar - no_char4\n",
    "\n",
    "result4 = \" \" * no_blanks4\n",
    "result4 += line_4\n",
    "\n",
    "line_5 = line5.strip()\n",
    "no_char5 = len(line_5)\n",
    "no_blanks5 = Maxchar - no_char5\n",
    "\n",
    "result5 = \" \" * no_blanks5\n",
    "result5 += line_5\n",
    "\n",
    "print(result1)\n",
    "print(result2)\n",
    "print(result3)\n",
    "print(result4)\n",
    "print(result5)"
   ]
  },
  {
   "cell_type": "markdown",
   "metadata": {},
   "source": [
    "5. Write a function to calculate the miles per gallon.\n",
    "Get a miles driven and gallons used from a user and call your function to calculate the miles per gallon."
   ]
  },
  {
   "cell_type": "code",
   "execution_count": 6,
   "metadata": {},
   "outputs": [],
   "source": [
    "def calculate(x,y) :\n",
    "    z = x / y\n",
    "    return z\n",
    "\n"
   ]
  },
  {
   "cell_type": "code",
   "execution_count": 7,
   "metadata": {},
   "outputs": [
    {
     "name": "stdout",
     "output_type": "stream",
     "text": [
      "Please enter the number of miles driven: 35\n",
      "Please enter the number of gallons of gas used: 5.6\n",
      "The miles per gallon for this trip is: 6.2.\n"
     ]
    }
   ],
   "source": [
    "miles = float(input(\"Please enter the number of miles driven: \"))\n",
    "gallons = float(input(\"Please enter the number of gallons of gas used: \"))\n",
    "\n",
    "mpg = calculate(miles, gallons)\n",
    "print(f\"The miles per gallon for this trip is: {mpg:.1f}.\")\n"
   ]
  },
  {
   "cell_type": "code",
   "execution_count": null,
   "metadata": {},
   "outputs": [],
   "source": []
  }
 ],
 "metadata": {
  "kernelspec": {
   "display_name": "Python 3 (ipykernel)",
   "language": "python",
   "name": "python3"
  },
  "language_info": {
   "codemirror_mode": {
    "name": "ipython",
    "version": 3
   },
   "file_extension": ".py",
   "mimetype": "text/x-python",
   "name": "python",
   "nbconvert_exporter": "python",
   "pygments_lexer": "ipython3",
   "version": "3.9.12"
  }
 },
 "nbformat": 4,
 "nbformat_minor": 4
}
